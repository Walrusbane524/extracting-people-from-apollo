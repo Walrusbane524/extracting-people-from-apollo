{
 "cells": [
  {
   "cell_type": "markdown",
   "id": "65034b58",
   "metadata": {},
   "source": [
    "# Imports"
   ]
  },
  {
   "cell_type": "code",
   "execution_count": null,
   "id": "13df0f19",
   "metadata": {},
   "outputs": [],
   "source": [
    "import os\n",
    "import json\n",
    "import requests\n",
    "import numpy as np\n",
    "import pandas as pd\n",
    "from tqdm import tqdm\n",
    "from dotenv import load_dotenv"
   ]
  },
  {
   "cell_type": "markdown",
   "id": "0b347ecc",
   "metadata": {},
   "source": [
    "# Getting data"
   ]
  },
  {
   "cell_type": "code",
   "execution_count": null,
   "id": "79fa4c8e",
   "metadata": {},
   "outputs": [],
   "source": [
    "load_dotenv(\".env\")\n",
    "\n",
    "# I inserted the query params on the base_url inside Apollo's documentation page for people search\n",
    "base_url = \"https://api.apollo.io/api/v1/mixed_people/search?person_titles[]=marketing&person_titles[]=ceo&person_titles[]=e-commerce&person_titles[]=ecommerce&person_titles[]=growth&person_titles[]=cmo&person_titles[]=cfo&person_titles[]=expansion&person_titles[]=commercial&person_titles[]=digital&person_titles[]=marketplace&person_titles[]=cco&person_locations[]=&person_seniorities[]=owner&person_seniorities[]=founder&person_seniorities[]=c_suite&person_seniorities[]=partner&person_seniorities[]=vp&person_seniorities[]=head&person_seniorities[]=director&person_seniorities[]=manager&person_seniorities[]=senior&organization_locations[]=Brasil&organization_locations[]=Brazil&organization_num_employees_ranges[]=10%2C10000&revenue_range[min]=1000&currently_using_any_of_technology_uids[]=vtex&currently_using_any_of_technology_uids[]=shopify&currently_using_any_of_technology_uids[]=klaviyo&currently_using_any_of_technology_uids[]=hubspot&currently_using_any_of_technology_uids[]=magento&currently_using_any_of_technology_uids[]=linx\"\n",
    "\n",
    "headers = {\n",
    "    \"accept\": \"application/json\",\n",
    "    \"Cache-Control\": \"no-cache\",\n",
    "    \"Content-Type\": \"application/json\",\n",
    "    \"x-api-key\": os.environ[\"API_KEY\"]\n",
    "}"
   ]
  },
  {
   "cell_type": "code",
   "execution_count": null,
   "id": "5e19511e",
   "metadata": {},
   "outputs": [],
   "source": [
    "pagination = f\"&page={1}&per_page=100\"\n",
    "\n",
    "response = requests.post(base_url + pagination, headers=headers).json()\n",
    "\n",
    "total_pages = response[\"pagination\"][\"total_pages\"]\n",
    "pages = [response]"
   ]
  },
  {
   "cell_type": "code",
   "execution_count": null,
   "id": "63ae9ed1",
   "metadata": {},
   "outputs": [],
   "source": [
    "for i in tqdm(range(2, total_pages + 1), desc=\"Getting people data\"):\n",
    "\n",
    "    pagination = f\"&page={i}&per_page=100\"\n",
    "\n",
    "    response = requests.post(base_url + pagination, headers=headers).json()\n",
    "\n",
    "    pages.append(response)"
   ]
  },
  {
   "cell_type": "code",
   "execution_count": null,
   "id": "695d5b01",
   "metadata": {},
   "outputs": [],
   "source": [
    "with open(\"apollo_people_data.json\", \"w\") as f:\n",
    "    json.dump(pages, f, indent=2)"
   ]
  },
  {
   "cell_type": "markdown",
   "id": "149e4ef9",
   "metadata": {},
   "source": [
    "# Cleaning json file"
   ]
  },
  {
   "cell_type": "code",
   "execution_count": null,
   "id": "223a7507",
   "metadata": {},
   "outputs": [],
   "source": [
    "with open(\"apollo_people_data.json\") as f:\n",
    "    data = json.load(f)\n",
    "\n",
    "breadcrumbs = data[0][\"breadcrumbs\"]"
   ]
  },
  {
   "cell_type": "code",
   "execution_count": null,
   "id": "881d4890",
   "metadata": {},
   "outputs": [],
   "source": [
    "people = []\n",
    "for page in data:\n",
    "    people = people + page[\"people\"]"
   ]
  },
  {
   "cell_type": "code",
   "execution_count": null,
   "id": "86f96b54",
   "metadata": {},
   "outputs": [],
   "source": [
    "att_to_keep = ['name', 'linkedin_url', 'title', 'twitter_url', 'facebook_url', 'headline', \"organization\", \"departments\", \"subdepartments\", \"seniority\", \"functions\"]\n",
    "\n",
    "sanitized_people = []\n",
    "for person in tqdm(people, desc=\"Cleaning data: \"):\n",
    "    sanitized_person_dict = {}\n",
    "    for att in att_to_keep:\n",
    "        try:\n",
    "            sanitized_person_dict[att] = person[att]\n",
    "        except KeyError:\n",
    "            sanitized_person_dict[att] = None\n",
    "            \n",
    "    sanitized_people.append(sanitized_person_dict)"
   ]
  },
  {
   "cell_type": "code",
   "execution_count": null,
   "id": "4c3dc07a",
   "metadata": {},
   "outputs": [],
   "source": [
    "with open(\"breadcrumbs.json\", 'w') as f:\n",
    "    json.dump(breadcrumbs, f, indent=2)\n",
    "\n",
    "with open(\"sanitized_people_data.json\", 'w') as f:\n",
    "    json.dump(sanitized_people, f, indent=2)"
   ]
  },
  {
   "cell_type": "markdown",
   "id": "def91fa7",
   "metadata": {},
   "source": [
    "# Cleaning organization data"
   ]
  },
  {
   "cell_type": "code",
   "execution_count": null,
   "id": "4ce4a93c",
   "metadata": {},
   "outputs": [],
   "source": [
    "with open(\"sanitized_people_data.json\", 'r') as f:\n",
    "    data = json.load(f)\n",
    "\n",
    "print(\"Dados totais:\", len(data))\n",
    "\n",
    "non_null_data = [person for person in data if person[\"organization\"] != None]\n",
    "print(\"Dados sem empresas nulas:\", len(non_null_data))"
   ]
  },
  {
   "cell_type": "code",
   "execution_count": null,
   "id": "49175c95",
   "metadata": {},
   "outputs": [],
   "source": [
    "def flatten_json(nested_json, separator='_'):\n",
    "    \"\"\"\n",
    "    Flattens a nested dictionary.\n",
    "\n",
    "    Args:\n",
    "        nested_json: The dictionary to flatten.\n",
    "        separator: The string to use between keys.\n",
    "\n",
    "    Returns:\n",
    "        A flattened dictionary.\n",
    "    \"\"\"\n",
    "    out = {}\n",
    "\n",
    "    def flatten(x, name=''):\n",
    "        if isinstance(x, dict):\n",
    "            for key in x:\n",
    "                flatten(x[key], name + key + separator)\n",
    "        elif isinstance(x, list):\n",
    "            is_string_list = all(isinstance(item, str) for item in x)\n",
    "            if is_string_list:\n",
    "                out[name[:-1]] = \"; \".join(x)\n",
    "            else:\n",
    "                for i, item in enumerate(x):\n",
    "                    flatten(item, name + str(i) + separator)\n",
    "        else:\n",
    "            out[name[:-1]] = x\n",
    "\n",
    "    flatten(nested_json)\n",
    "    return out"
   ]
  },
  {
   "cell_type": "code",
   "execution_count": null,
   "id": "c54e44d4",
   "metadata": {},
   "outputs": [],
   "source": [
    "cleaned_data = []\n",
    "for person in non_null_data:\n",
    "    normalized_person = flatten_json(person)\n",
    "    cleaned_data.append(normalized_person)\n",
    "\n",
    "print(cleaned_data[0].keys())"
   ]
  },
  {
   "cell_type": "code",
   "execution_count": null,
   "id": "05964b92",
   "metadata": {},
   "outputs": [],
   "source": [
    "removed_keys = ['organization_id', \"organization_primary_phone_number\", 'organization_primary_phone_sanitized_number', 'organization_languages', 'organization_alexa_ranking', 'organization_publicly_traded_symbol', 'organization_publicly_traded_exchange', 'organization_primary_domain', 'organization_organization_headcount_six_month_growth', 'organization_organization_headcount_twelve_month_growth', 'organization_organization_headcount_twenty_four_month_growth']\n",
    "for person in cleaned_data:\n",
    "    for key in removed_keys:\n",
    "        try:\n",
    "            person.pop(key)\n",
    "        except KeyError:\n",
    "            continue"
   ]
  },
  {
   "cell_type": "code",
   "execution_count": null,
   "id": "ed5d398a",
   "metadata": {},
   "outputs": [],
   "source": [
    "df = pd.DataFrame(cleaned_data)\n",
    "df = df.replace('', np.nan)\n",
    "df = df.dropna(axis=1, how=\"all\")\n",
    "df = df[['name', 'title', 'headline', 'linkedin_url', 'organization_name', 'organization_website_url', 'organization_linkedin_url', 'organization_facebook_url',\n",
    "        'organization_sanitized_phone', 'organization_primary_phone_source', 'organization_founded_year',\n",
    "       'organization_logo_url','organization_linkedin_uid']]\n",
    "df = df.sort_values(\"organization_name\")\n",
    "df.head()"
   ]
  },
  {
   "cell_type": "code",
   "execution_count": null,
   "id": "847b0183",
   "metadata": {},
   "outputs": [],
   "source": [
    "print(\"Empresas diferentes:\", len(df[\"organization_name\"].unique()))\n",
    "df.to_csv(\"final_data.csv\")"
   ]
  }
 ],
 "metadata": {
  "kernelspec": {
   "display_name": ".venv",
   "language": "python",
   "name": "python3"
  },
  "language_info": {
   "codemirror_mode": {
    "name": "ipython",
    "version": 3
   },
   "file_extension": ".py",
   "mimetype": "text/x-python",
   "name": "python",
   "nbconvert_exporter": "python",
   "pygments_lexer": "ipython3",
   "version": "3.12.3"
  }
 },
 "nbformat": 4,
 "nbformat_minor": 5
}
